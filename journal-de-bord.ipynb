{
 "cells": [
  {
   "cell_type": "markdown",
   "metadata": {},
   "source": [
    "# Journal de bord"
   ]
  },
  {
   "cell_type": "markdown",
   "metadata": {},
   "source": [
    "Copier-coller les cellules comme canevas pour y remplir les informations."
   ]
  },
  {
   "cell_type": "markdown",
   "metadata": {},
   "source": [
    "## 📅 Journal de bord – Jour 1 (09/07/2025)\n",
    "\n",
    "### 🔧 Étapes / Actions réalisées\n",
    "- Lecture du sujet d'examen\n",
    "- Téléchargement des données\n",
    "- Réflexion sur les données qui permettront d'entrainer le modèle (but précis de prédir si un vol aura plus de 15 min de retard à l'arrivée)\n",
    "\n",
    "### 📝 Observations / Difficultés\n",
    "- Le sujet à l'air intéressant. Il s'agit d'un exercice portant sur la classification comme nous avons pu en faire lors du brief 7\n",
    "- La volumétrie du jeu de données parait importante\n",
    "\n",
    "### ✅ Prochaines étapes\n",
    "- Création d'un notebook pour exploration du jeu de données"
   ]
  },
  {
   "cell_type": "markdown",
   "metadata": {},
   "source": []
  },
  {
   "cell_type": "markdown",
   "metadata": {},
   "source": [
    "## 📅 Journal de bord – Jour 2 (22/07/2025 matin)\n",
    "\n",
    "### 🔧 Étapes / Actions réalisées\n",
    "- Création du notebook et mise en place de l'environnement avec l'installation de différente librairie dans un projet\n",
    "- Chargement des données dans le notebook (boucle sur les 12 CSV)\n",
    "- Lecture approfondies des colonnes à disposition et séléction des colonnes qui seront utilisées dans l'entrainement du modèle.\n",
    "- Description via des fonctions Python des données dans le notebook. Cette analyse me permet d'identifier des données en erreur et je les élimine. \n",
    "\n",
    "### 📝 Observations / Difficultés\n",
    "- Les colonnes et les données sont nombreuses. Je me pose la question de conserver toutes les données ou non, certaines ne seront pas exploitées lors de l'entrainement du modèle.\n",
    "- Je m'interroge sue le fait que la prédiction doit pouvoir être faite après le décollage de l'avion ou seulement avant son décollage. Je vais conserver les données de décollage car elles pourront être nécessaires dans le premier cas.\n",
    "\n",
    "### ✅ Prochaines étapes\n",
    "- Je vais réfléchir à la mise en place d'un base de données relationelle pour optimiser le stockage des données"
   ]
  }
 ],
 "metadata": {
  "language_info": {
   "name": "python"
  }
 },
 "nbformat": 4,
 "nbformat_minor": 2
}
