{
 "cells": [
  {
   "cell_type": "markdown",
   "metadata": {},
   "source": [
    "# Journal de bord"
   ]
  },
  {
   "cell_type": "markdown",
   "metadata": {},
   "source": [
    "Copier-coller les cellules comme canevas pour y remplir les informations."
   ]
  },
  {
   "cell_type": "markdown",
   "metadata": {},
   "source": [
    "## 📅 Journal de bord – Jour 1 (09/07/2025)\n",
    "\n",
    "### 🔧 Étapes / Actions réalisées\n",
    "- Lecture du sujet d'examen\n",
    "- Téléchargement des données\n",
    "- Réflexion sur les données qui permettront d'entrainer le modèle (but précis de prédir si un vol aura plus de 15 min de retard à l'arrivée)\n",
    "\n",
    "### 📝 Observations / Difficultés\n",
    "- Le sujet à l'air intéressant. Il s'agit d'un exercice portant sur la classification comme nous avons pu en faire lors du brief 7\n",
    "- La volumétrie du jeu de données parait importante\n",
    "\n",
    "### ✅ Prochaines étapes\n",
    "- Création d'un notebook pour exploration du jeu de données"
   ]
  },
  {
   "cell_type": "markdown",
   "metadata": {},
   "source": []
  },
  {
   "cell_type": "markdown",
   "metadata": {},
   "source": [
    "## 📅 Journal de bord – Jour 2 (22/07/2025 matin)\n",
    "\n",
    "### 🔧 Étapes / Actions réalisées\n",
    "- Création du notebook et mise en place de l'environnement avec l'installation de différente librairie dans un projet\n",
    "- Chargement des données dans le notebook (boucle sur les 12 CSV)\n",
    "- Lecture approfondies des colonnes à disposition et séléction des colonnes qui seront utilisées dans l'entrainement du modèle.\n",
    "- Description via des fonctions Python des données dans le notebook. Cette analyse me permet d'identifier des données en erreur et je les élimine. \n",
    "\n",
    "### 📝 Observations / Difficultés\n",
    "- Les colonnes et les données sont nombreuses. Je me pose la question de conserver toutes les données ou non, certaines ne seront pas exploitées lors de l'entrainement du modèle.\n",
    "- Je m'interroge sue le fait que la prédiction doit pouvoir être faite après le décollage de l'avion ou seulement avant son décollage. Je vais conserver les données de décollage car elles pourront être nécessaires dans le premier cas.\n",
    "\n",
    "### ✅ Prochaines étapes\n",
    "- Je vais réfléchir à la mise en place d'un base de données relationelle pour optimiser le stockage des données"
   ]
  },
  {
   "cell_type": "markdown",
   "metadata": {},
   "source": [
    "## 📅 Journal de bord – Jour 2 (22/07/2025 après-midi)\n",
    "\n",
    "### 🔧 Étapes / Actions réalisées\n",
    "- Création d'une liste d'aéroport\n",
    "- Création d'une liste de compagnie\n",
    "- Insertion des données dans une base de données Postresql en locale\n",
    "\n",
    "### 📝 Observations / Difficultés\n",
    "- J'ai travailler la liste des aéroports et des compagnies en amont des filtres sur les données (donc sur les données CSV directement), j'ai donc du refaire un clean des données aéroports et compagnies. J'aurais pu éviter cela en travaillant sur les données déjà filtrées car je pense que les listes auraient été quand même exhaustives.\n",
    "\n",
    "### ✅ Prochaines étapes\n",
    "- Je mettre en forme les données via un préprocesseur\n",
    "- Je vais devoir determiner les types de modèles pertinents"
   ]
  },
  {
   "cell_type": "markdown",
   "metadata": {},
   "source": [
    "## 📅 Journal de bord – Jour 2 (22/07/2025 soir)\n",
    "\n",
    "### 🔧 Étapes / Actions réalisées\n",
    "- Pré-processing\n",
    "- Entrainement sur des modèles : \n",
    "  - CNN (Convolutional Neural Network)\n",
    "  - Régression Logistique\n",
    "  - Random Forest (arbre de décision)\n",
    "\n",
    "### 📝 Observations / Difficultés\n",
    "- J'ai décider de faire de la prédiction avant le décollage. Les informations que je trouve importante sont les aéroports, la compagnie et les horaires prévus de décollage/attérissage\n",
    "- Malheuresement les résultats sont très mauvais. Les modèles ne prévoient que très peu de retard. On retrouve une Accuracy proche de 83% qui correspond au 83% de vol n'ayant pas de retard à l'arrivée\n",
    "\n",
    "### ✅ Prochaines étapes\n",
    "- Essayer d'optimiser les modèles"
   ]
  },
  {
   "cell_type": "markdown",
   "metadata": {},
   "source": [
    "Before Departure\n",
    "- Random Forest \n",
    "\n",
    "Default Accuracy: : 0.836413\n",
    "Default LogLoss: : 0.445571\n",
    "Default ErrorRate: : 0.163587\n",
    "\n",
    "Confusion Table:\n",
    "truth\\prediction\n",
    "        1     2\n",
    "1  360468  1948\n",
    "2   65511  5371\n",
    "Total: 433298\n",
    "\n",
    "- Régression Logistique\n",
    "              precision    recall  f1-score   support\n",
    "\n",
    "         0.0       0.84      1.00      0.91    108745\n",
    "         1.0       0.00      0.00      0.00     21245\n",
    "\n",
    "    accuracy                           0.84    129990\n",
    "\n",
    "\n",
    "- CNN\n",
    "Matrice de confusion\n",
    "Pas top"
   ]
  },
  {
   "cell_type": "code",
   "execution_count": 1,
   "metadata": {},
   "outputs": [
    {
     "data": {
      "image/png": "[encoded data removed]",
      "text/plain": [
       "<IPython.core.display.Image object>"
      ]
     },
     "metadata": {},
     "output_type": "display_data"
    }
   ],
   "source": [
    "from IPython.display import Image, display\n",
    "\n",
    "# Display an image (replace 'path/to/image.png' with your image file path)\n",
    "display(Image(filename='result_cnn.png'))"
   ]
  },
  {
   "cell_type": "markdown",
   "metadata": {},
   "source": [
    "## 📅 Journal de bord – Jour 3 (23/07/2025 matin)\n",
    "\n",
    "### 🔧 Étapes / Actions réalisées\n",
    "- Optimisation des modèles\n",
    "- Entrainement avec des données suite au décollage\n",
    "\n",
    "### 📝 Observations / Difficultés\n",
    "- J'ai changer quelques paramètres sur le modèles CNN mais sans succès\n",
    "- J'ai décidé de faire de l'entrainement de modèle avec des données post décollage. Les informations importantes sont donc ici le retard au décollage et le temps de vol.\n",
    "\n",
    "### ✅ Prochaines étapes\n",
    "- "
   ]
  }
 ],
 "metadata": {
  "kernelspec": {
   "display_name": ".venv",
   "language": "python",
   "name": "python3"
  },
  "language_info": {
   "codemirror_mode": {
    "name": "ipython",
    "version": 3
   },
   "file_extension": ".py",
   "mimetype": "text/x-python",
   "name": "python",
   "nbconvert_exporter": "python",
   "pygments_lexer": "ipython3",
   "version": "3.10.0"
  }
 },
 "nbformat": 4,
 "nbformat_minor": 2
}
